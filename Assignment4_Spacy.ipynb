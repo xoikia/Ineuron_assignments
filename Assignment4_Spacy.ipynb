{
  "nbformat": 4,
  "nbformat_minor": 0,
  "metadata": {
    "colab": {
      "name": "Assignment4-Spacy.ipynb",
      "provenance": []
    },
    "kernelspec": {
      "name": "python3",
      "display_name": "Python 3"
    },
    "language_info": {
      "name": "python"
    }
  },
  "cells": [
    {
      "cell_type": "markdown",
      "source": [
        "**Question 1.** Create a python program to find it out the Named entity recognition(NER) from the following sentence using spacy and visualizing those parts in sentence."
      ],
      "metadata": {
        "id": "7XTsO1Icw23r"
      }
    },
    {
      "cell_type": "code",
      "source": [
        "\n",
        "import spacy\n",
        "from spacy import displacy\n",
        "nlp = spacy.load(\"en_core_web_sm\")\n",
        "doc = nlp(\"I saw a kitten eating chicken in the kitchen\")\n",
        "\n",
        "for ent in doc.ents:\n",
        "  print(ent.text,ent.start_char, ent.end_char, ent.label_)"
      ],
      "metadata": {
        "id": "ucgRpJuHxC1n"
      },
      "execution_count": 1,
      "outputs": []
    },
    {
      "cell_type": "markdown",
      "source": [
        "There is no Named enityt recognition for the given sentence"
      ],
      "metadata": {
        "id": "VlmXj1i2n7MO"
      }
    },
    {
      "cell_type": "markdown",
      "source": [
        "**Question 2.** Find out the similar words from following list using spacy library.\n",
        "\n",
        "[\"ship car truck motor-bike jeep hagskdshd\"]"
      ],
      "metadata": {
        "id": "A8H23XG-xMSQ"
      }
    },
    {
      "cell_type": "code",
      "source": [
        "# !python -m spacy download en_core_web_md\n",
        "import spacy.cli\n",
        "spacy.cli.download(\"en_core_web_md\")"
      ],
      "metadata": {
        "colab": {
          "base_uri": "https://localhost:8080/"
        },
        "id": "bz6Bnqoxzm92",
        "outputId": "f30f3342-fd0f-4fb4-ee9b-2244656e91c3"
      },
      "execution_count": 2,
      "outputs": [
        {
          "output_type": "stream",
          "name": "stdout",
          "text": [
            "\u001b[38;5;2m✔ Download and installation successful\u001b[0m\n",
            "You can now load the model via spacy.load('en_core_web_md')\n"
          ]
        }
      ]
    },
    {
      "cell_type": "code",
      "source": [
        "nlp = spacy.load(\"en_core_web_md\")\n",
        "\n",
        "sent = [\"ship car truck motor-bike jeep hagskdshd\"]\n",
        "\n",
        "doc = nlp(sent[0])\n",
        "for token in doc:\n",
        "    for word in doc:\n",
        "        print(token.text, word.text, token.similarity(word))"
      ],
      "metadata": {
        "colab": {
          "base_uri": "https://localhost:8080/"
        },
        "id": "DLYO0im3xSJB",
        "outputId": "52a74734-ef6d-4e69-89f3-a93eb8b2627a"
      },
      "execution_count": 3,
      "outputs": [
        {
          "output_type": "stream",
          "name": "stdout",
          "text": [
            "ship ship 1.0\n",
            "ship car 0.2815587\n",
            "ship truck 0.35367906\n",
            "ship motor 0.2741221\n",
            "ship - 0.030455196\n",
            "ship bike 0.19740233\n",
            "ship jeep 0.21036273\n",
            "ship hagskdshd 0.0\n",
            "car ship 0.2815587\n",
            "car car 1.0\n",
            "car truck 0.71134394\n",
            "car motor 0.5655214\n",
            "car - 0.1160374\n",
            "car bike 0.53577304\n",
            "car jeep 0.5652786\n",
            "car hagskdshd 0.0\n",
            "truck ship 0.35367906\n",
            "truck car 0.71134394\n",
            "truck truck 1.0\n",
            "truck motor 0.52424634\n",
            "truck - 0.059196077\n",
            "truck bike 0.48927912\n",
            "truck jeep 0.6284901\n",
            "truck hagskdshd 0.0\n",
            "motor ship 0.2741221\n",
            "motor car 0.5655214\n",
            "motor truck 0.52424634\n",
            "motor motor 1.0\n",
            "motor - 0.010074193\n",
            "motor bike 0.46072814\n",
            "motor jeep 0.40830103\n",
            "motor hagskdshd 0.0\n",
            "- ship 0.030455196\n",
            "- car 0.1160374\n",
            "- truck 0.059196077\n",
            "- motor 0.010074193\n",
            "- - 1.0\n",
            "- bike 0.0737416\n",
            "- jeep -0.01678796\n",
            "- hagskdshd 0.0\n",
            "bike ship 0.19740233\n",
            "bike car 0.53577304\n",
            "bike truck 0.48927912\n",
            "bike motor 0.46072814\n",
            "bike - 0.0737416\n",
            "bike bike 1.0\n",
            "bike jeep 0.42305312\n",
            "bike hagskdshd 0.0\n",
            "jeep ship 0.21036273\n",
            "jeep car 0.5652786\n",
            "jeep truck 0.6284901\n",
            "jeep motor 0.40830103\n",
            "jeep - -0.01678796\n",
            "jeep bike 0.42305312\n",
            "jeep jeep 1.0\n",
            "jeep hagskdshd 0.0\n",
            "hagskdshd ship 0.0\n",
            "hagskdshd car 0.0\n",
            "hagskdshd truck 0.0\n",
            "hagskdshd motor 0.0\n",
            "hagskdshd - 0.0\n",
            "hagskdshd bike 0.0\n",
            "hagskdshd jeep 0.0\n",
            "hagskdshd hagskdshd 1.0\n"
          ]
        },
        {
          "output_type": "stream",
          "name": "stderr",
          "text": [
            "/usr/lib/python3.7/runpy.py:193: UserWarning: [W008] Evaluating Token.similarity based on empty vectors.\n",
            "  \"__main__\", mod_spec)\n",
            "/usr/lib/python3.7/runpy.py:193: UserWarning: [W008] Evaluating Token.similarity based on empty vectors.\n",
            "  \"__main__\", mod_spec)\n",
            "/usr/lib/python3.7/runpy.py:193: UserWarning: [W008] Evaluating Token.similarity based on empty vectors.\n",
            "  \"__main__\", mod_spec)\n",
            "/usr/lib/python3.7/runpy.py:193: UserWarning: [W008] Evaluating Token.similarity based on empty vectors.\n",
            "  \"__main__\", mod_spec)\n",
            "/usr/lib/python3.7/runpy.py:193: UserWarning: [W008] Evaluating Token.similarity based on empty vectors.\n",
            "  \"__main__\", mod_spec)\n",
            "/usr/lib/python3.7/runpy.py:193: UserWarning: [W008] Evaluating Token.similarity based on empty vectors.\n",
            "  \"__main__\", mod_spec)\n",
            "/usr/lib/python3.7/runpy.py:193: UserWarning: [W008] Evaluating Token.similarity based on empty vectors.\n",
            "  \"__main__\", mod_spec)\n",
            "/usr/lib/python3.7/runpy.py:193: UserWarning: [W008] Evaluating Token.similarity based on empty vectors.\n",
            "  \"__main__\", mod_spec)\n",
            "/usr/lib/python3.7/runpy.py:193: UserWarning: [W008] Evaluating Token.similarity based on empty vectors.\n",
            "  \"__main__\", mod_spec)\n",
            "/usr/lib/python3.7/runpy.py:193: UserWarning: [W008] Evaluating Token.similarity based on empty vectors.\n",
            "  \"__main__\", mod_spec)\n",
            "/usr/lib/python3.7/runpy.py:193: UserWarning: [W008] Evaluating Token.similarity based on empty vectors.\n",
            "  \"__main__\", mod_spec)\n",
            "/usr/lib/python3.7/runpy.py:193: UserWarning: [W008] Evaluating Token.similarity based on empty vectors.\n",
            "  \"__main__\", mod_spec)\n",
            "/usr/lib/python3.7/runpy.py:193: UserWarning: [W008] Evaluating Token.similarity based on empty vectors.\n",
            "  \"__main__\", mod_spec)\n",
            "/usr/lib/python3.7/runpy.py:193: UserWarning: [W008] Evaluating Token.similarity based on empty vectors.\n",
            "  \"__main__\", mod_spec)\n"
          ]
        }
      ]
    },
    {
      "cell_type": "markdown",
      "source": [
        "**Question 3.** Visualize sentences including parts of speech(pos) tagging and linguistic annotation in it by using spacy library.\n",
        "\n",
        "\n"
      ],
      "metadata": {
        "id": "1IgR-JmQxSW3"
      }
    },
    {
      "cell_type": "markdown",
      "source": [
        "\n",
        "**Question 4.** What is Word vector? And, how could you convert words into vector?"
      ],
      "metadata": {
        "id": "0TGHofBqxU41"
      }
    },
    {
      "cell_type": "markdown",
      "source": [
        "Converting words to vectors, or word vectorization, is a natural language processing (NLP) process. The process uses language models to map words into vector space. A vector space represents each word by a vector of real numbers. It also allows words with similar meanings have similar representations.\n",
        "\n",
        "Word vectors can be generated using an algorithm like word2vec."
      ],
      "metadata": {
        "id": "6KuTv-GfxUsM"
      }
    },
    {
      "cell_type": "markdown",
      "source": [
        "**Question 5.** Define Vocab, hashes and lexemes in your own word."
      ],
      "metadata": {
        "id": "Q9BpwnCAxSwO"
      }
    },
    {
      "cell_type": "markdown",
      "source": [
        "Vocab are storage class to store vocabs and data across a particular language.\n",
        "\n",
        "**Hashes:** When we are dealing with a big chunk of text there is a high probability that a particular word can appear more than once, although the context can be different. But saving the same word multiple time to the vocabulry will consume memory. So spacy uses a hash function which convert the word into a hash value and stores it in the stringstore.\n",
        "\n",
        "**lexemes**: Each entry in the vocabulry is called lexemes. A word in a text can be used in different context but the lexemes contains the word with context-independent form, it's hash value also remains same."
      ],
      "metadata": {
        "id": "DXYHlrJbxZHW"
      }
    },
    {
      "cell_type": "code",
      "source": [
        ""
      ],
      "metadata": {
        "id": "CXmifkr-HjTT"
      },
      "execution_count": 3,
      "outputs": []
    }
  ]
}