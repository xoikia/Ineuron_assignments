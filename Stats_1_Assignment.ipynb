{
  "nbformat": 4,
  "nbformat_minor": 0,
  "metadata": {
    "colab": {
      "name": "Stats 1 Assignment.ipynb",
      "provenance": []
    },
    "kernelspec": {
      "name": "python3",
      "display_name": "Python 3"
    },
    "language_info": {
      "name": "python"
    }
  },
  "cells": [
    {
      "cell_type": "code",
      "source": [
        "import numpy as np\n",
        "import pandas as pd\n",
        "import seaborn as sns\n",
        "import matplotlib.pyplot as plt\n",
        "from scipy import stats, integrate\n",
        "from scipy.integrate import quad"
      ],
      "metadata": {
        "id": "NGWRr-ldmJhT"
      },
      "execution_count": 1,
      "outputs": []
    },
    {
      "cell_type": "markdown",
      "source": [
        "Calculate the mean, median, mode and standard deviation for the problem\n",
        "statements 1& 2.\n",
        "\n",
        "Problem Statement 1:\n",
        "\n",
        "The marks awarded for an assignment set for a Year 8 class of 20 students were as\n",
        "follows:\n",
        "\n",
        "6 7 5 7 7 8 7 6 9 7 4 10 6 8 8 9 5 6 4 8"
      ],
      "metadata": {
        "id": "SmPQsKFBmBHO"
      }
    },
    {
      "cell_type": "code",
      "source": [
        "marks = np.array([6, 7, 5, 7, 7, 8, 7, 6, 9, 7, 4, 10, 6, 8, 8, 9, 5, 6, 4, 8])\n",
        "\n",
        "print(\"The mean of the marks is: \", np.mean(marks))\n",
        "print(\"The median of the marks is: \", np.median(marks))\n",
        "print(\"The mode of the marks is: \", stats.mode(marks))"
      ],
      "metadata": {
        "colab": {
          "base_uri": "https://localhost:8080/"
        },
        "id": "wA7YFROymiaj",
        "outputId": "0399a23d-7bf5-42d6-9d93-c1d5f17a9d62"
      },
      "execution_count": 2,
      "outputs": [
        {
          "output_type": "stream",
          "name": "stdout",
          "text": [
            "The mean of the marks is:  6.85\n",
            "The median of the marks is:  7.0\n",
            "The mode of the marks is:  ModeResult(mode=array([7]), count=array([5]))\n"
          ]
        }
      ]
    },
    {
      "cell_type": "markdown",
      "source": [
        "Problem Statement 2:\n",
        "\n",
        "The number of calls from motorists per day for roadside service was recorded for a\n",
        "particular month:\n",
        "\n",
        "28, 122, 217, 130, 120, 86, 80, 90, 140, 120, 70, 40, 145, 113, 90, 68, 174, 194, 170,\n",
        "100, 75, 104, 97, 75,\n",
        "123, 100, 75, 104, 97, 75, 123, 100, 89, 120, 109"
      ],
      "metadata": {
        "id": "LGKAz8c7orE9"
      }
    },
    {
      "cell_type": "code",
      "source": [
        "calls = np.array([28, 122, 217, 130, 120, 86, 80, 90, 140, 120, 70, 40, 145, 113, 90, 68, 174, 194, 170, 100, 75, 104, 97, 75, 123, 100, 75, 104, 97, 75, 123, 100, 89, 120, 109])\n",
        "\n",
        "print(\"The mean of the calls is: \", np.mean(calls))\n",
        "print(\"The median of the calls is: \", np.median(calls))\n",
        "print(\"The mode of the calls is: \", stats.mode(calls))"
      ],
      "metadata": {
        "colab": {
          "base_uri": "https://localhost:8080/"
        },
        "id": "UMVqKvQ4ozLe",
        "outputId": "4333d07b-fa73-482f-8eda-44012af2e6c7"
      },
      "execution_count": 3,
      "outputs": [
        {
          "output_type": "stream",
          "name": "stdout",
          "text": [
            "The mean of the calls is:  107.51428571428572\n",
            "The median of the calls is:  100.0\n",
            "The mode of the calls is:  ModeResult(mode=array([75]), count=array([4]))\n"
          ]
        }
      ]
    },
    {
      "cell_type": "markdown",
      "source": [
        "Problem Statement 3:\n",
        "\n",
        "The number of times I go to the gym in weekdays, are given below along with its\n",
        "associated probability:\n",
        "\n",
        "x = 0, 1, 2, 3, 4, 5\n",
        "\n",
        "f(x) = 0.09, 0.15, 0.40, 0.25, 0.10, 0.01\n",
        "\n",
        "Calculate the mean no. of workouts in a week. Also evaluate the variance involved in\n",
        "it."
      ],
      "metadata": {
        "id": "qwLKVELWpDgK"
      }
    },
    {
      "cell_type": "code",
      "source": [
        "number_of_times = np.array([0, 1, 2, 3, 4, 5])\n",
        "prob = np.array([0.09, 0.15, 0.40, 0.25, 0.10, 0.01])\n",
        "\n",
        "\n",
        "actual_times = number_of_times * prob\n",
        "\n",
        "print(\"The mean number of workouts in a week: \", actual_times.mean())\n",
        "print(\"The variance is : \", stats.variation(actual_times))"
      ],
      "metadata": {
        "colab": {
          "base_uri": "https://localhost:8080/"
        },
        "id": "FEb-CeVIpKdq",
        "outputId": "3fda89a4-933d-4b08-d2b1-45e2701b69be"
      },
      "execution_count": 4,
      "outputs": [
        {
          "output_type": "stream",
          "name": "stdout",
          "text": [
            "The mean number of workouts in a week:  0.35833333333333334\n",
            "The variance is :  0.8949712281345982\n"
          ]
        }
      ]
    },
    {
      "cell_type": "markdown",
      "source": [
        "Problem Statement 4:\n",
        "\n",
        "Let the continuous random variable D denote the diameter of the hole drilled in an\n",
        "aluminum sheet. The target diameter to be achieved is 12.5mm. Random\n",
        "disturbances in the process often result in inaccuracy.\n",
        "\n",
        "Historical data shows that the distribution of D can be modelled by the PDF (d) =\n",
        "20e−20(d−12.5), d ≥ 12.5. If a part with diameter > 12.6 mm needs to be scrapped,\n",
        "what is the proportion of those parts? What is the CDF when the diameter is of 11\n",
        "mm? What is your conclusion regarding the proportion of scraps?"
      ],
      "metadata": {
        "id": "zSuuw5P1q97Q"
      }
    },
    {
      "cell_type": "code",
      "source": [
        "pdf = lambda d: 20*np.exp(-20*(d-12.5))\n",
        "out = integrate.quad(pdf, a=12.6, b = np.inf)\n",
        "\n",
        "print(\"Proportion of the scrapped parts for d>12.6mm is: \", out)\n",
        "print(\"CDF is 0 for diameter of 11mm, since the  the given probability distribution function is valid for d>=12.5\")\n",
        "print(\"The conculsion regarding the proportion of the scrap is that:\\nFor diameter above 12.5mm it  follows the equation 1-e-20(d-12.5)\")"
      ],
      "metadata": {
        "id": "uacM29jtsW70",
        "colab": {
          "base_uri": "https://localhost:8080/"
        },
        "outputId": "7f41b1dd-5c03-4b07-c5b6-ed54d7739b6c"
      },
      "execution_count": 5,
      "outputs": [
        {
          "output_type": "stream",
          "name": "stdout",
          "text": [
            "Proportion of the scrapped parts for d>12.6mm is:  (0.13533528323661398, 1.4196407407851444e-09)\n",
            "CDF is 0 for diameter of 11mm, since the  the given probability distribution function is valid for d>=12.5\n",
            "The conculsion regarding the proportion of the scrap is that:\n",
            "For diameter above 12.5mm it  follows the equation 1-e-20(d-12.5)\n"
          ]
        }
      ]
    },
    {
      "cell_type": "markdown",
      "source": [
        "Problem Statement 5:\n",
        "\n",
        "A company manufactures LED bulbs with a faulty rate of 30%. If I randomly select 6\n",
        "chosen LEDs, what is the probability of having 2 faulty LEDs in my sample?\n",
        "Calculate the average value of this process. Also evaluate the standard deviation\n",
        "associated with it."
      ],
      "metadata": {
        "id": "0dV8-ObVs3yU"
      }
    },
    {
      "cell_type": "code",
      "source": [
        "n = 6 \n",
        "x = 2\n",
        "faulty_rate = 0.3\n",
        "\n",
        "prob = sum(np.random.binomial(n, faulty_rate,5000)==2)/5000\n",
        "\n",
        "mean , variance = stats.binom.stats(n, faulty_rate)\n",
        "std = variance **0.5\n",
        "print(\"The probability of having 2 faulty LEDs from a 6 randomly chosen LEDs is: \", prob)\n",
        "print('Mean is: ',mean)\n",
        "print('Standard deviation for this process is: ',std)\n"
      ],
      "metadata": {
        "id": "uPazmorjs4HA",
        "colab": {
          "base_uri": "https://localhost:8080/"
        },
        "outputId": "1b8bb4ea-9305-441e-a969-c25b51e9806f"
      },
      "execution_count": 6,
      "outputs": [
        {
          "output_type": "stream",
          "name": "stdout",
          "text": [
            "The probability of having 2 faulty LEDs from a 6 randomly chosen LEDs is:  0.3382\n",
            "Mean is:  1.7999999999999998\n",
            "Standard deviation for this process is:  1.1224972160321822\n"
          ]
        }
      ]
    },
    {
      "cell_type": "markdown",
      "source": [
        "Problem Statement 6:\n",
        "\n",
        "Gaurav and Barakha are both preparing for entrance exams. Gaurav attempts to\n",
        "solve 8 questions per day with a correction rate of 75%, while Barakha averages\n",
        "around 12 questions per day with a correction rate of 45%. What is the probability\n",
        "that each of them will solve 5 questions correctly? What happens in cases of 4 and 6\n",
        "correct solutions? What do you infer from it? What are the two main governing\n",
        "factors affecting their ability to solve questions correctly? Give a pictorial\n",
        "representation of the same to validate your answer."
      ],
      "metadata": {
        "id": "k8_0LHZNs-nG"
      }
    },
    {
      "cell_type": "code",
      "source": [
        "#Gaurav\n",
        "corr_rate = 0.75\n",
        "attempts = 8 \n",
        "#probability of Gaurav solving 5 questions correctly\n",
        "prob_Gaurav = sum(np.random.binomial(attempts, corr_rate,5000)==5)/5000\n",
        "print(\"Probability of Gaurav solving 5 questions correctly %0.3f\"%prob_Gaurav)\n",
        "\n",
        "#probability of Gaurav solving 4 correct solutions\n",
        "prob_Gaurav = sum(np.random.binomial(8,corr_rate,5000)==4)/5000\n",
        "print(\"Probability of Gaurav solving 4 questions correctly %0.3f\"%prob_Gaurav)\n",
        "\n",
        "#probability of Gaurav solving 6 correct solutions\n",
        "prob_Gaurav = sum(np.random.binomial(8,corr_rate,5000)==6)/5000\n",
        "print(\"Probability of Gaurav solving 6 questions correctly %0.3f\"%prob_Gaurav)\n",
        "\n",
        "#Barakha \n",
        "corr_rate = 0.45\n",
        "attempts = 12\n",
        "#probability of Barkakha solving 5 questions correctly\n",
        "prob_Barakha = sum(np.random.binomial(attempts, corr_rate,5000)==5)/5000\n",
        "print(\"Probability of Barakha solving 5 questions correctly %0.3f\"%prob_Barakha)\n",
        "\n",
        "#probability of Barakha solving 4 correct solutions\n",
        "prob_Barakha = sum(np.random.binomial(8,corr_rate,5000)==4)/5000\n",
        "print(\"Probability of Barakha solving 4 questions correctly %0.3f\"%prob_Barakha)\n",
        "\n",
        "#probability of Barakha solving 6 correct solutions\n",
        "prob_Barakha = sum(np.random.binomial(attempts,corr_rate,5000)==6)/5000\n",
        "print(\"Probability of Barakha solving 6 questions correctly %0.3f\"%prob_Barakha)"
      ],
      "metadata": {
        "id": "EF8G6Ttes_s3",
        "colab": {
          "base_uri": "https://localhost:8080/"
        },
        "outputId": "5387c2b8-b25b-48c5-fba0-a4ba7d88a29d"
      },
      "execution_count": 7,
      "outputs": [
        {
          "output_type": "stream",
          "name": "stdout",
          "text": [
            "Probability of Gaurav solving 5 questions correctly 0.209\n",
            "Probability of Gaurav solving 4 questions correctly 0.092\n",
            "Probability of Gaurav solving 6 questions correctly 0.308\n",
            "Probability of Barakha solving 5 questions correctly 0.206\n",
            "Probability of Barakha solving 4 questions correctly 0.267\n",
            "Probability of Barakha solving 6 questions correctly 0.214\n"
          ]
        }
      ]
    },
    {
      "cell_type": "code",
      "source": [
        "from scipy.stats import binom \n",
        "import matplotlib.pyplot as plt \n",
        "# setting the values of n and p  \n",
        "n_Gaurav = 8\n",
        "p_Gaurav = 0.75\n",
        "n_Barkha = 12\n",
        "p_Barkha = 0.45\n",
        "# defining list of r values \n",
        "r_values_Gaurav = list(range(n_Gaurav + 1)) \n",
        "r_values_Barkha = list(range(n_Barkha + 1)) \n",
        "# list of pmf values \n",
        "dist_Gaurav = [binom.pmf(r, n_Gaurav, p_Gaurav) for r in r_values_Gaurav]\n",
        "dist_Barkha = [binom.pmf(r, n_Barkha, p_Barkha) for r in r_values_Barkha ]\n",
        "# plotting the graph  \n",
        "fig = plt.figure(figsize=(18,8))\n",
        "plt.subplot(1, 2, 1)\n",
        "plt.title('Gaurav\\'s probability distribution')\n",
        "plt.xlabel('Number of questions solved correctly')\n",
        "plt.ylabel('Probability of solving')\n",
        "plt.bar(r_values_Gaurav, dist_Gaurav)\n",
        "plt.subplot(1, 2, 2)\n",
        "plt.title('Barkha\\'s probability distribution')\n",
        "plt.xlabel('Number of questions solved correctly')\n",
        "plt.ylabel('Probability of solving')\n",
        "plt.bar(r_values_Barkha, dist_Barkha) \n",
        "plt.show()"
      ],
      "metadata": {
        "colab": {
          "base_uri": "https://localhost:8080/",
          "height": 513
        },
        "id": "nJyhl6qz3DiE",
        "outputId": "a67ad853-8f7c-4227-f4d1-db3d2e2d6049"
      },
      "execution_count": 8,
      "outputs": [
        {
          "output_type": "display_data",
          "data": {
            "image/png": "[encoded data removed]",
            "text/plain": [
              "<Figure size 1296x576 with 2 Axes>"
            ]
          },
          "metadata": {
            "needs_background": "light"
          }
        }
      ]
    },
    {
      "cell_type": "markdown",
      "source": [
        "The two main factors affecting the ability to solve questions correctly are:\n",
        "\n",
        "* Correction rate\n",
        "* Number of questions solved per day\n",
        "\n",
        "As the correction rate increases the chances of the distribution to be left skewed increases. Since Barkha's correction rate is close to 0.5 so highest probability of solving questions is found at around 50% of the total number of questions.\n",
        "\n",
        "Increasing the number of questions solved daily reduces skewness as well.As the number of questions increases the distribution skewness decreases"
      ],
      "metadata": {
        "id": "nGON0HoI3EaG"
      }
    },
    {
      "cell_type": "markdown",
      "source": [
        "Problem Statement 7:\n",
        "\n",
        "Customers arrive at a rate of 72 per hour to my shop. What is the probability of k\n",
        "customers arriving in 4 minutes? a) 5 customers, b) not more than 3 customers, c)\n",
        "more than 3 customers. Give a pictorial representation of the same to validate your\n",
        "answer."
      ],
      "metadata": {
        "id": "oVTsRE7XtDe4"
      }
    },
    {
      "cell_type": "code",
      "source": [
        "average_customer_per_minute = 72/60\n",
        "probability_of_k_customer_in_4minute = (72/60)*4\n",
        "\n",
        "probability_five = stats.poisson.pmf(k=5,mu = probability_of_k_customer_in_4minute)\n",
        "\n",
        "probability_not_more_three = sum([stats.poisson.pmf(k =x , mu = probability_of_k_customer_in_4minute) for x in range(0,4)])\n",
        "\n",
        "probability_more_three = 1 - sum([stats.poisson.pmf(k =x , mu = probability_of_k_customer_in_4minute) for x in range(0,4)])\n",
        "\n",
        "print(\"The probability of k customers arriving in 4 minutes: \", probability_of_k_customer_in_4minute)\n",
        "print(\"The probability of 5 customers arriving in 4 minutes:\", probability_five)\n",
        "print(\"The probability of not more than 3 customers arriving in 4 minutes:\", probability_not_more_three)\n",
        "print(\"The probability of more than 3 customers arriving in 4 minutes:\", probability_more_three)"
      ],
      "metadata": {
        "id": "_aW_JeuftDvn",
        "colab": {
          "base_uri": "https://localhost:8080/"
        },
        "outputId": "deda8480-7c5b-420e-d24c-5cd54ed9bcfa"
      },
      "execution_count": 9,
      "outputs": [
        {
          "output_type": "stream",
          "name": "stdout",
          "text": [
            "The probability of k customers arriving in 4 minutes:  4.8\n",
            "The probability of 5 customers arriving in 4 minutes: 0.17474768364388296\n",
            "The probability of not more than 3 customers arriving in 4 minutes: 0.29422991649656405\n",
            "The probability of more than 3 customers arriving in 4 minutes: 0.705770083503436\n"
          ]
        }
      ]
    },
    {
      "cell_type": "code",
      "source": [
        "data_poisson = stats.poisson.rvs(mu=4.8, size=200)\n",
        "\n",
        "ax = sns.distplot(data_poisson)\n",
        "ax.set(xlabel='Customers per 4 minutes', ylabel='Frequency')\n",
        "plt.title('Poisson distribution')\n",
        "plt.show()"
      ],
      "metadata": {
        "colab": {
          "base_uri": "https://localhost:8080/",
          "height": 350
        },
        "id": "Uegh5fwa0Ya6",
        "outputId": "d4149824-a55e-46b3-e643-61cc88fe31c9"
      },
      "execution_count": 10,
      "outputs": [
        {
          "output_type": "stream",
          "name": "stderr",
          "text": [
            "/usr/local/lib/python3.7/dist-packages/seaborn/distributions.py:2619: FutureWarning: `distplot` is a deprecated function and will be removed in a future version. Please adapt your code to use either `displot` (a figure-level function with similar flexibility) or `histplot` (an axes-level function for histograms).\n",
            "  warnings.warn(msg, FutureWarning)\n"
          ]
        },
        {
          "output_type": "display_data",
          "data": {
            "image/png": "[encoded data removed]",
            "text/plain": [
              "<Figure size 432x288 with 1 Axes>"
            ]
          },
          "metadata": {
            "needs_background": "light"
          }
        }
      ]
    },
    {
      "cell_type": "code",
      "source": [
        "x = np.arange(0,25)\n",
        "prob = stats.poisson.cdf(x, 4.8)\n",
        "y = prob[3]\n",
        "print('Probability of not more than 3 customers is',round(y,3))\n",
        "print('Probability of more than 3 customers is',round((1 - y),3))\n",
        "plt.plot(prob)\n",
        "plt.plot((3,3),(0,1))\n",
        "plt.scatter(3,prob[3])\n",
        "plt.text(3,prob[3],'({}, {})'.format(3, round(prob[3],3)))\n",
        "plt.title('CDF of poisson distribution')\n",
        "plt.show()"
      ],
      "metadata": {
        "colab": {
          "base_uri": "https://localhost:8080/",
          "height": 316
        },
        "id": "xFqjNQ743CqH",
        "outputId": "c36d7337-cf22-4a2b-d864-f10560c29673"
      },
      "execution_count": 11,
      "outputs": [
        {
          "output_type": "stream",
          "name": "stdout",
          "text": [
            "Probability of not more than 3 customers is 0.294\n",
            "Probability of more than 3 customers is 0.706\n"
          ]
        },
        {
          "output_type": "display_data",
          "data": {
            "image/png": "[encoded data removed]",
            "text/plain": [
              "<Figure size 432x288 with 1 Axes>"
            ]
          },
          "metadata": {
            "needs_background": "light"
          }
        }
      ]
    },
    {
      "cell_type": "markdown",
      "source": [
        "Problem Statement 8:\n",
        "\n",
        "I work as a data analyst in Aeon Learning Pvt. Ltd. After analyzing data, I make\n",
        "reports, where I have the efficiency of entering 77 words per minute with 6 errors per\n",
        "hour. What is the probability that I will commit 2 errors in a 455-word financial report?\n",
        "What happens when the no. of words increases/decreases (in case of 1000 words,\n",
        "255 words)?\n",
        "How is the λ affected?\n",
        "How does it influence the PMF?\n",
        "Give a pictorial representation of the same to validate your answer."
      ],
      "metadata": {
        "id": "3dYDvKG2tG78"
      }
    },
    {
      "cell_type": "code",
      "source": [
        "# 77 words has 6 errors per hour\n",
        "errors_per_minute = 6/60\n",
        "\n",
        "average_error_in_455_words = 455* errors_per_minute\n",
        "probability_of_2_errors_in_455 = stats.poisson.pmf(2, average_error_in_455_words)\n",
        "\n",
        "\n",
        "average_error_in_1000_words = 1000*errors_per_minute\n",
        "probability_of_2_errors_in_1000 = stats.poisson.pmf(2, average_error_in_1000_words)\n",
        "\n",
        "average_error_in_255_words = 255*errors_per_minute\n",
        "probability_of_2_errors_in_255 = stats.poisson.pmf(2, average_error_in_255_words)\n",
        "\n",
        "print(\"The error rate for 455 words is {}, 1000 words is {}, 255 words is {}\".format(average_error_in_455_words, average_error_in_1000_words, average_error_in_255_words))\n",
        "print('As the number of words increase the lambda value increases too meaning error rate increases')\n",
        "\n",
        "print(\"Probability of 2 errors in 455 words: \", probability_of_2_errors_in_455)\n",
        "\n",
        "print(\"Probability of 2 errors in 255 words: \", probability_of_2_errors_in_255)\n",
        "\n",
        "print(\"Probability of 2 errors in 1000 words: \", probability_of_2_errors_in_1000)"
      ],
      "metadata": {
        "id": "KD1Ybw-3tIgC",
        "colab": {
          "base_uri": "https://localhost:8080/"
        },
        "outputId": "0f9bb19d-1fc8-4f7c-9eb9-b066ae22c912"
      },
      "execution_count": 12,
      "outputs": [
        {
          "output_type": "stream",
          "name": "stdout",
          "text": [
            "The error rate for 455 words is 45.5, 1000 words is 100.0, 255 words is 25.5\n",
            "As the number of words increase the lambda value increases too meaning error rate increases\n",
            "Probability of 2 errors in 455 words:  1.797189493669188e-17\n",
            "Probability of 2 errors in 255 words:  2.7386786531716155e-09\n",
            "Probability of 2 errors in 1000 words:  1.8600379880104227e-40\n"
          ]
        }
      ]
    },
    {
      "cell_type": "code",
      "source": [
        "fig = plt.figure(figsize=(18, 8))\n",
        "x = np.arange(0,10)\n",
        "mu_1 = 0.59\n",
        "mu_2 = 1.299\n",
        "mu_3 = 0.33\n",
        "plt.subplot(1,2,1)\n",
        "plt.plot(x, stats.poisson.pmf(x, mu_1), 'b-', label='λ: 0.59')\n",
        "plt.plot(x, stats.poisson.pmf(x, mu_2), 'g-', label='λ: 1.299')\n",
        "plt.plot(x, stats.poisson.pmf(x, mu_3), 'r-', label='λ: 0.33')\n",
        "plt.legend()\n",
        "plt.title('PDF for different lambda')\n",
        "plt.subplot(1, 2, 2)\n",
        "x = np.arange(0,10)\n",
        "mu_1 = 0.59\n",
        "mu_2 = 1.299\n",
        "mu_3 = 0.33\n",
        "plt.plot(x, stats.poisson.cdf(x, mu_1), 'b-',label='λ: 0.59')\n",
        "plt.plot(x, stats.poisson.cdf(x, mu_2), 'g-', label='λ: 1.299')\n",
        "plt.plot(x, stats.poisson.cdf(x, mu_3), 'r-', label='λ: 0.33')\n",
        "plt.legend()\n",
        "plt.title('CDF for different lambda')\n",
        "plt.show()"
      ],
      "metadata": {
        "colab": {
          "base_uri": "https://localhost:8080/",
          "height": 499
        },
        "id": "AP25B10Rwp6m",
        "outputId": "65db8f4a-5a55-477d-c595-744f148d804c"
      },
      "execution_count": 13,
      "outputs": [
        {
          "output_type": "display_data",
          "data": {
            "image/png": "[encoded data removed]",
            "text/plain": [
              "<Figure size 1296x576 with 2 Axes>"
            ]
          },
          "metadata": {
            "needs_background": "light"
          }
        }
      ]
    },
    {
      "cell_type": "markdown",
      "source": [
        "Problem Statement 9:\n",
        "\n",
        "Let the continuous random variable D denote the diameter of the hole drilled in an\n",
        "aluminum sheet. The target diameter to be achieved is 12.5mm. Random\n",
        "disturbances in the process often result in inaccuracy.\n",
        "Historical data shows that the distribution of D can be modelled by the PDF, f(d) =\n",
        "20e−20(d−12.5), d ≥ 12.5. If a part with diameter > 12.6 mm needs to be scrapped,\n",
        "what is the proportion of those parts? What is the CDF when the diameter is of 11\n",
        "mm?\n",
        "What is the conclusion of this experiment?"
      ],
      "metadata": {
        "id": "Xf8JMnsUtIkd"
      }
    },
    {
      "cell_type": "code",
      "source": [
        "pdf = lambda d: 20*np.exp(-20*(d-12.5))\n",
        "out = integrate.quad(pdf, a=12.6, b = np.inf)\n",
        "\n",
        "print(\"Proportion of the scrapped parts for d>12.6mm is: \", out[0])\n",
        "print(\"CDF is 0 for diameter of 11mm, since the  the given probability distribution function is valid for d>=12.5\")\n",
        "print(\"The conculsion regarding the proportion of the scrap is that:\\nFor diameter above 12.5mm it  follows the equation 1-e-20(d-12.5)\")"
      ],
      "metadata": {
        "id": "MFyLLqCttO7L",
        "colab": {
          "base_uri": "https://localhost:8080/"
        },
        "outputId": "25a23108-00d7-4a34-9caa-6572ae4076f1"
      },
      "execution_count": 14,
      "outputs": [
        {
          "output_type": "stream",
          "name": "stdout",
          "text": [
            "Proportion of the scrapped parts for d>12.6mm is:  0.13533528323661398\n",
            "CDF is 0 for diameter of 11mm, since the  the given probability distribution function is valid for d>=12.5\n",
            "The conculsion regarding the proportion of the scrap is that:\n",
            "For diameter above 12.5mm it  follows the equation 1-e-20(d-12.5)\n"
          ]
        }
      ]
    },
    {
      "cell_type": "markdown",
      "source": [
        "Problem Statement 10:\n",
        "\n",
        "Please compute the following:\n",
        "\n",
        "a) P(Z > 1.26), . P(Z < −0.86), P(Z > −1.37), P(−1.25 < Z < 0.37), . P(Z ≤ −4.6)\n",
        "\n",
        "b) Find the value z such that P(Z > z) = 0.05\n",
        "\n",
        "c) Find the value of z such that P(−z < Z < z) = 0.99"
      ],
      "metadata": {
        "id": "MoeB13hutIo3"
      }
    },
    {
      "cell_type": "code",
      "source": [
        "def integr(z, b= -np.inf):\n",
        "  return quad(stats.norm.pdf, b, z)[0]"
      ],
      "metadata": {
        "id": "6wZW3cR8tQNZ"
      },
      "execution_count": 15,
      "outputs": []
    },
    {
      "cell_type": "code",
      "source": [
        "print(\"P(Z > 1.26) = %.5f\"%(1-integr(1.26)))\n",
        "print(\"P(Z < −0.86) = %.5f\"%(integr(-0.86)))\n",
        "print(\"P(Z > −1.37) = %.5f\"%(1-integr(-1.37)))\n",
        "print(\"P(−1.25 < Z < 0.37) = %.5f\"%(integr(0.37,-1.25)))\n",
        "print(\"P(Z ≤ −4.6) = %.5f\"%(integr(-4.6)))"
      ],
      "metadata": {
        "colab": {
          "base_uri": "https://localhost:8080/"
        },
        "id": "JIOvYkKMjcUJ",
        "outputId": "c81a609d-95ce-4d55-9ce8-cab871cfee78"
      },
      "execution_count": 16,
      "outputs": [
        {
          "output_type": "stream",
          "name": "stdout",
          "text": [
            "P(Z > 1.26) = 0.10383\n",
            "P(Z < −0.86) = 0.19489\n",
            "P(Z > −1.37) = 0.91466\n",
            "P(−1.25 < Z < 0.37) = 0.53866\n",
            "P(Z ≤ −4.6) = 0.00000\n"
          ]
        }
      ]
    },
    {
      "cell_type": "code",
      "source": [
        "#value z such that P(Z > z) = 0.05\n",
        "print(\"value of z for P(Z>z)=0.05 is %.2f\"%(-1*(stats.norm.ppf(0.05))))\n",
        "\n",
        "#value of z such that P(−z < Z < z) = 0.99\n",
        "print(\"value of z for 𝑃(−𝑧 < 𝑍 < 𝑧)=0.99 is %.2f\"%(abs(stats.norm.ppf(0.99))))"
      ],
      "metadata": {
        "colab": {
          "base_uri": "https://localhost:8080/"
        },
        "id": "53aoTbPvj7wV",
        "outputId": "16c17149-565b-4bb8-9578-dd641a36aca9"
      },
      "execution_count": 17,
      "outputs": [
        {
          "output_type": "stream",
          "name": "stdout",
          "text": [
            "value of z for P(Z>z)=0.05 is 1.64\n",
            "value of z for 𝑃(−𝑧 < 𝑍 < 𝑧)=0.99 is 2.33\n"
          ]
        }
      ]
    },
    {
      "cell_type": "markdown",
      "source": [
        "Problem Statement 11:\n",
        "\n",
        "The current flow in a copper wire follow a normal distribution with a mean of 10 mA\n",
        "and a variance of 4 (mA)2.\n",
        "What is the probability that a current measurement will exceed 13 mA? What is the\n",
        "probability that a current measurement is between 9 and 11mA? Determine the\n",
        "current measurement which has a probability of 0.98."
      ],
      "metadata": {
        "id": "mCn18_t9tQem"
      }
    },
    {
      "cell_type": "code",
      "source": [
        "#mean  =10\n",
        "#var = 4\n",
        "#std = 2\n",
        "\n",
        "def I(z, b=-np.inf):\n",
        "  Z = (z-10)/2\n",
        "  return quad(stats.norm.pdf,b,Z )[0]"
      ],
      "metadata": {
        "id": "RUz60MUctQxl"
      },
      "execution_count": 18,
      "outputs": []
    },
    {
      "cell_type": "code",
      "source": [
        "print(\"Probability that a current measurement will exceed 13 mA is %.3f\"%(1-I(z=13)))\n",
        "print(\"Probability that a current measurement is between 9 and 11mA is %.3f\"%(1-I(z=11,b=9)))\n",
        "\n",
        "print(\"The current measurement which has a probability of 0.98 is %.1f\"%(10+2*abs(stats.norm.ppf(0.98))))"
      ],
      "metadata": {
        "colab": {
          "base_uri": "https://localhost:8080/"
        },
        "id": "aoOjrLTAnJHQ",
        "outputId": "40ba7ccc-14d4-4b91-80df-dd2a958abd91"
      },
      "execution_count": 19,
      "outputs": [
        {
          "output_type": "stream",
          "name": "stdout",
          "text": [
            "Probability that a current measurement will exceed 13 mA is 0.067\n",
            "Probability that a current measurement is between 9 and 11mA is 1.309\n",
            "The current measurement which has a probability of 0.98 is 14.1\n"
          ]
        }
      ]
    },
    {
      "cell_type": "markdown",
      "source": [
        "Problem Statement 12:\n",
        "\n",
        "The shaft in a piston has its diameter normally distributed with a mean of 0.2508 inch\n",
        "and a standard deviation of 0.0005 inch. The specifications of the shaft are 0.2500 ∓\n",
        "0.0015 inch. What proportion of shafts are in sync with the specifications? If the\n",
        "process is centered so that the mean is equal to the target value of 0.2500, what\n",
        "proportion of shafts conform to the new specifications? What is your conclusion from\n",
        "this experiment?"
      ],
      "metadata": {
        "id": "iU98x977tRDE"
      }
    },
    {
      "cell_type": "code",
      "source": [
        "mean = 0.2508\n",
        "std = 0.0005\n",
        "\n",
        "#specifications of the shaft are 0.2500 ∓ 0.0015 \n",
        "\n",
        "z1 = ((0.2500-0.0015)-mean)/std\n",
        "z2 = ((0.2500+0.0015)-mean)/std\n",
        "\n",
        "print(\"Proportion of shafts are in sync with the specifications is %.3f\"%(quad(stats.norm.pdf, z1,z2)[0]))\n",
        "\n",
        "#if the process is centered so that the mean equals to  target value of 0.2500\n",
        "new_mean = 0.2500\n",
        "z1 = ((0.2500-0.0015)-new_mean)/std\n",
        "z2 = ((0.2500+0.0015)+new_mean)/std\n",
        "\n",
        "print(\"Proportion of shafts are in sync with the specifications for mean equals to  target value of 0.2500 is %.3f\"%(quad(stats.norm.pdf, z1,z2)[0]))\n",
        "\n"
      ],
      "metadata": {
        "id": "QFXvd7XQtWuB",
        "colab": {
          "base_uri": "https://localhost:8080/"
        },
        "outputId": "5cd727e7-c149-4493-8265-23da1ef8a453"
      },
      "execution_count": 20,
      "outputs": [
        {
          "output_type": "stream",
          "name": "stdout",
          "text": [
            "Proportion of shafts are in sync with the specifications is 0.919\n",
            "Proportion of shafts are in sync with the specifications for mean equals to  target value of 0.2500 is 0.999\n"
          ]
        }
      ]
    },
    {
      "cell_type": "markdown",
      "source": [
        "**Conclusion**\n",
        "\n",
        "Within the range of 0.2485<d<0.2515 A manufacturing process with mean of 0.25 gives maximum proportion of required shafts, there by reducing amount of scrap and reprocessing time.\n",
        "\n",
        "When compared to any other manufacturing process whose mean deviates from that of 0.25 less proportion of required shafts are obtained. The more the manufucaturing process deviaties from 0.25, lesser will be the proportion of reqired safts obtained.\n",
        "\n",
        "Mathematically, in a given range 0.2485<d<0.2515 , if there are two noraml distributrions (manufacturing processes) with same standard deviation,more area will be covered by the distribution whose mean is closer to mean of the interval i.e 0.25"
      ],
      "metadata": {
        "id": "7emsKSbVurRD"
      }
    },
    {
      "cell_type": "code",
      "source": [
        ""
      ],
      "metadata": {
        "id": "GT68QLo8wSd0"
      },
      "execution_count": 20,
      "outputs": []
    }
  ]
}