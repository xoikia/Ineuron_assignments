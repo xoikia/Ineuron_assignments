{
 "cells": [
  {
   "cell_type": "markdown",
   "metadata": {},
   "source": [
    "**Question 1.** Write a python program using Textblob in which find out the parts-of-speech(pos) tagging from the following sentence."
   ]
  },
  {
   "cell_type": "code",
   "execution_count": 11,
   "metadata": {},
   "outputs": [],
   "source": [
    "text = \"Susie works in a shoeshine shop. Where she shines she sits, and where she sits she shines\"\n",
    "blob = TextBlob(text)"
   ]
  },
  {
   "cell_type": "code",
   "execution_count": 13,
   "metadata": {},
   "outputs": [
    {
     "data": {
      "text/plain": [
       "[('Susie', 'NNP'),\n",
       " ('works', 'VBZ'),\n",
       " ('in', 'IN'),\n",
       " ('a', 'DT'),\n",
       " ('shoeshine', 'NN'),\n",
       " ('shop', 'NN'),\n",
       " ('Where', 'WRB'),\n",
       " ('she', 'PRP'),\n",
       " ('shines', 'VBZ'),\n",
       " ('she', 'PRP'),\n",
       " ('sits', 'VBZ'),\n",
       " ('and', 'CC'),\n",
       " ('where', 'WRB'),\n",
       " ('she', 'PRP'),\n",
       " ('sits', 'VBZ'),\n",
       " ('she', 'PRP'),\n",
       " ('shines', 'NNS')]"
      ]
     },
     "execution_count": 13,
     "metadata": {},
     "output_type": "execute_result"
    }
   ],
   "source": [
    "blob.tags"
   ]
  },
  {
   "cell_type": "markdown",
   "metadata": {},
   "source": [
    "**Question 2.** What is Wordlist? And, how it is different than tokenization?"
   ]
  },
  {
   "cell_type": "markdown",
   "metadata": {},
   "source": [
    "Wordlist is a python list that have some additional methods. It finds out the words in the given sentence and rejects the empty space in the sentence.\n",
    "\n",
    "Tokenization breaks unstructured data and natural language text into chunks of information. Diffetent Library have different Tokenization. For example in NLTK  library , we can easily tokenize the sentences and words of the text with the tokenize module of NLTK.IN word tokenization it considers the punctuation marks as separate tokens. But in WordList the punctuations are not considered."
   ]
  },
  {
   "cell_type": "markdown",
   "metadata": {},
   "source": [
    "**Question 3.** Write a python program using the textblob to find out the count of the common words from the following sentence."
   ]
  },
  {
   "cell_type": "markdown",
   "metadata": {},
   "source": [
    "Find it out how many times 'wood' came in the sentence.\n"
   ]
  },
  {
   "cell_type": "code",
   "execution_count": 16,
   "metadata": {},
   "outputs": [],
   "source": [
    "blob = TextBlob(\"How much wood would a woodchuck chuck if a woodchuck could chuck wood?\"\n",
    "         \"He would chuck, he would, as much as he could, and chuck as much wood\"\n",
    "        \"As a woodchuck would if a woodchuck could chuck wood\")"
   ]
  },
  {
   "cell_type": "code",
   "execution_count": 18,
   "metadata": {},
   "outputs": [
    {
     "data": {
      "text/plain": [
       "3"
      ]
     },
     "execution_count": 18,
     "metadata": {},
     "output_type": "execute_result"
    }
   ],
   "source": [
    "blob.word_counts['wood']"
   ]
  },
  {
   "cell_type": "markdown",
   "metadata": {},
   "source": [
    "**Question 4.** Translate the following sentences in your own language using the textblob."
   ]
  },
  {
   "cell_type": "code",
   "execution_count": 25,
   "metadata": {},
   "outputs": [],
   "source": [
    "sentences = [\"Data is a new oil.\", \"A.I is the last invention\", \"She sells seashells by the seashore\", \"He threw three free throws\"]"
   ]
  },
  {
   "cell_type": "code",
   "execution_count": 27,
   "metadata": {},
   "outputs": [
    {
     "name": "stdout",
     "output_type": "stream",
     "text": [
      "Data is a new oil. \t डेटा एक नया तेल है।\n",
      "A.I is the last invention \t A.I अंतिम आविष्कार है\n",
      "She sells seashells by the seashore \t वह समुंद्र के किनारे शँख बेचती है\n",
      "He threw three free throws \t उसने तीन मुक्त फेंक दिया\n"
     ]
    }
   ],
   "source": [
    "for sentence in sentences:\n",
    "    blob = TextBlob(sentence)\n",
    "    out = blob.translate(to='hi')\n",
    "    print(sentence, '\\t', out)"
   ]
  },
  {
   "cell_type": "markdown",
   "metadata": {},
   "source": [
    "**Question 5.** Create a spell checker program using the textblob library with using your own sentences."
   ]
  },
  {
   "cell_type": "code",
   "execution_count": 33,
   "metadata": {},
   "outputs": [],
   "source": [
    "from textblob import Word"
   ]
  },
  {
   "cell_type": "code",
   "execution_count": 34,
   "metadata": {},
   "outputs": [],
   "source": [
    "def spellchecker(word):\n",
    "    blob = Word(word)\n",
    "    return blob.spellcheck()"
   ]
  },
  {
   "cell_type": "code",
   "execution_count": 36,
   "metadata": {},
   "outputs": [
    {
     "data": {
      "text/plain": [
       "[('Computer', 1.0)]"
      ]
     },
     "execution_count": 36,
     "metadata": {},
     "output_type": "execute_result"
    }
   ],
   "source": [
    "spellchecker('Camputer')"
   ]
  },
  {
   "cell_type": "code",
   "execution_count": null,
   "metadata": {},
   "outputs": [],
   "source": []
  }
 ],
 "metadata": {
  "kernelspec": {
   "display_name": "Python 3",
   "language": "python",
   "name": "python3"
  },
  "language_info": {
   "codemirror_mode": {
    "name": "ipython",
    "version": 3
   },
   "file_extension": ".py",
   "mimetype": "text/x-python",
   "name": "python",
   "nbconvert_exporter": "python",
   "pygments_lexer": "ipython3",
   "version": "3.8.3"
  }
 },
 "nbformat": 4,
 "nbformat_minor": 4
}
