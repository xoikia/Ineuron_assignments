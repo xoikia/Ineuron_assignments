{
  "nbformat": 4,
  "nbformat_minor": 0,
  "metadata": {
    "colab": {
      "name": "Stats Assignment 3.ipynb",
      "provenance": []
    },
    "kernelspec": {
      "name": "python3",
      "display_name": "Python 3"
    },
    "language_info": {
      "name": "python"
    }
  },
  "cells": [
    {
      "cell_type": "markdown",
      "source": [
        "**Problem Statement 1:**\n",
        "\n",
        "Blood glucose levels for obese patients have a mean of 100 with a standard deviation of 15. A researcher thinks that a diet high in raw cornstarch will have a positive effect on blood glucose levels. A sample of 36 patients who have tried the raw cornstarch diet have a mean glucose level of 108. Test the hypothesis that the raw cornstarch had an effect or not."
      ],
      "metadata": {
        "id": "NR4snL-DRTcz"
      }
    },
    {
      "cell_type": "code",
      "source": [
        "mean = 100\n",
        "std = 15\n",
        "sample = 36\n",
        "sample_mean  = 108\n",
        "\n",
        "std_error = std/sample**0.5\n",
        "z = (sample_mean-mean)/(std_error)\n",
        "print(\"Standard error %0.2f\"%std_error)\n",
        "print(\"Z_score %0.2f\"%z)"
      ],
      "metadata": {
        "colab": {
          "base_uri": "https://localhost:8080/"
        },
        "id": "EYqp_XNZRvXG",
        "outputId": "173ed500-deb3-4acd-af0d-2ea74c2ab0d9"
      },
      "execution_count": 1,
      "outputs": [
        {
          "output_type": "stream",
          "name": "stdout",
          "text": [
            "Standard error 2.50\n",
            "Z_score 3.20\n"
          ]
        }
      ]
    },
    {
      "cell_type": "markdown",
      "source": [
        "By looking at z- table and p-value associated with 3.20 is 0.9993. \n",
        "\n",
        "The probability of having value less than 108 is 0.9993 and more than or equals to 108 is (1-0.9993)=0.0007.\n",
        "\n",
        "Since the probability of having mean glucose level more than or equals to 108  is 0.0007 which is  less than 0.05  so we will reject the Null hypothesis i.e. there is raw cornstarch effect."
      ],
      "metadata": {
        "id": "WK5fik1TY_Na"
      }
    },
    {
      "cell_type": "markdown",
      "source": [
        "**Problem Statement 2:**\n",
        "\n",
        "In one state, 52% of the voters are Republicans, and 48% are Democrats. In a second state, 47% of the voters are Republicans, and 53% are Democrats. Suppose a simple random sample of 100 voters are surveyed from each state. What is the probability that the survey will show a greater percentage of Republican voters in the second state than in the first state?"
      ],
      "metadata": {
        "id": "nbze-srgRziY"
      }
    },
    {
      "cell_type": "code",
      "source": [
        "#State1\n",
        "republic1 = .52\n",
        "democrats1 = 0.48\n",
        "n1 = 100\n",
        "\n",
        "#State2\n",
        "republic2 = 0.47\n",
        "democrats2 = 0.53\n",
        "n2 = 100\n",
        "\n",
        "mu = republic1-republic2\n",
        "print(f\"Mean Difference in number of  republican  in both states: {mu}\")\n",
        "\n",
        "\n",
        "std = ((republic1 * democrats1 ) / n1 + (republic2 * democrats2) /n2)**0.5\n",
        "print(f\"std: {std}\")\n",
        "\n",
        "'''Difference should be less than 0 for greater percentage of Republican voters \n",
        "in the second  state than in the first state'''\n",
        "x = 0\n",
        "z_score = (x-mu)/std\n",
        "print(f\"z score : {z_score}\")"
      ],
      "metadata": {
        "colab": {
          "base_uri": "https://localhost:8080/"
        },
        "id": "7AxO6z7uRzyP",
        "outputId": "6edd6b6a-89d5-4627-c57b-657c6ef04276"
      },
      "execution_count": 2,
      "outputs": [
        {
          "output_type": "stream",
          "name": "stdout",
          "text": [
            "Mean Difference in number of  republican  in both states: 0.050000000000000044\n",
            "std: 0.07061869440877536\n",
            "z score : -0.7080278164104213\n"
          ]
        }
      ]
    },
    {
      "cell_type": "markdown",
      "source": [
        "From Z score table -0.708 refers to 0.24\n",
        "\n",
        "Hence 0.24 is the probability that the survey will show a greater percentage of Republican voters in the second  state than in the first state"
      ],
      "metadata": {
        "id": "HSMp8_wJf2Df"
      }
    },
    {
      "cell_type": "markdown",
      "source": [
        "**Problem Statement 3:**\n",
        "\n",
        "You take the SAT and score 1100. The mean score for the SAT is 1026 and the standard deviation is 209. How well did you score on the test compared to the average test taker?"
      ],
      "metadata": {
        "id": "7x-2BikySPYB"
      }
    },
    {
      "cell_type": "code",
      "source": [
        "mean = 1026\n",
        "std = 209\n",
        "z =  (1100-mean)/std\n",
        "\n",
        "print(\"The z value is {0}. This means that your score was {0} std deviaton above the mean.\".format(z))"
      ],
      "metadata": {
        "colab": {
          "base_uri": "https://localhost:8080/"
        },
        "id": "kiGqgOlLSPfy",
        "outputId": "1a73d41d-21d7-4033-dab1-5802713c3cd6"
      },
      "execution_count": 3,
      "outputs": [
        {
          "output_type": "stream",
          "name": "stdout",
          "text": [
            "The z value is 0.35406698564593303. This means that your score was 0.35406698564593303 std deviaton above the mean.\n"
          ]
        }
      ]
    }
  ]
}